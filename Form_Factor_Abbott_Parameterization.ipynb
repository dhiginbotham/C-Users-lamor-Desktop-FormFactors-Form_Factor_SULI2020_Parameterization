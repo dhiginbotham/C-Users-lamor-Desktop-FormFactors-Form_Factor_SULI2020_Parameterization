{
 "cells": [
  {
   "cell_type": "code",
   "execution_count": 1,
   "metadata": {},
   "outputs": [],
   "source": [
    "import numpy as np\n",
    "import matplotlib.pyplot as plt"
   ]
  },
  {
   "cell_type": "markdown",
   "metadata": {},
   "source": [
    "# Definitions"
   ]
  },
  {
   "cell_type": "code",
   "execution_count": 2,
   "metadata": {},
   "outputs": [],
   "source": [
    "Mp = 0.9383\n",
    "Md = 1.876\n",
    "Me = 0.511E-3\n",
    "ne = 3\n",
    "Ei = [5, 10, 18] #Electron Beam Energy in GeV\n",
    "Di = [82, 220, 220] #Deuteron Beam Energy in GeV (= twice energy-per-nucleon 41,110)\n",
    "mu_p = (2.79285)\n",
    "alpha = (1./137.036)"
   ]
  },
  {
   "cell_type": "code",
   "execution_count": 3,
   "metadata": {},
   "outputs": [],
   "source": [
    "#Eta Variable\n",
    "def eta(Q2):\n",
    "    return Q2/(4.*Md*Md)"
   ]
  },
  {
   "cell_type": "code",
   "execution_count": 4,
   "metadata": {},
   "outputs": [],
   "source": [
    "#GC -- Abbott Parameterization I\n",
    "def GC(Q2):\n",
    "\n",
    "    Q_fm = np.sqrt(Q2)*(1./0.1973) #Q in fm^-1\n",
    "\n",
    "    G_0 = 1.\n",
    "    Q_0 = 4.21\n",
    "    a = [6.740E-01, 2.246E-02, 9.806E-03, -2.709E-04, 3.793E-06]\n",
    "\n",
    "    poly = 1.\n",
    "    \n",
    "    for i in range(0, len(a)):\n",
    "        poly += a[i]*np.power(Q_fm,2*(i+1))\n",
    "\n",
    "    GC = G_0 * (1. - np.power((Q_fm/Q_0),2)) * (1./poly)\n",
    "    return GC"
   ]
  },
  {
   "cell_type": "code",
   "execution_count": 5,
   "metadata": {},
   "outputs": [],
   "source": [
    "#GQ -- Abbott Parameterization I\n",
    "def GQ(Q2):\n",
    "\n",
    "    Q_fm = np.sqrt(Q2)*(1./0.1973) #Q in fm^-1\n",
    "\n",
    "    G_0 = 25.83\n",
    "    Q_0 = 8.1\n",
    "    a = [.796E-01, -5.656E-02, 1.933E-02, -6.734E-04, 9.438E-06]\n",
    "\n",
    "    poly = 1.\n",
    "    \n",
    "    for i in range(0, len(a)):\n",
    "        poly += a[i]*np.power(Q_fm,2*(i+1))\n",
    "\n",
    "    GQ = G_0 * (1. - np.power((Q_fm/Q_0),2)) * (1./poly)\n",
    "    return GQ"
   ]
  },
  {
   "cell_type": "code",
   "execution_count": 8,
   "metadata": {},
   "outputs": [],
   "source": [
    "#GM -- Abbott Parameterization I\n",
    "def GM(Q2):\n",
    "\n",
    "    Q_fm = np.sqrt(Q2)*(1./0.1973) #Q in fm^-1\n",
    "\n",
    "    G_0 = 1.714\n",
    "    Q_0 = 7.37\n",
    "    a = [5.804E-01, 8.701E-02, -3.624E-03, 3.448E-04, -2.818E-06]\n",
    "\n",
    "    poly = 1.\n",
    "    \n",
    "    for i in range(0, len(a)):\n",
    "        poly += a[i]*np.power(Q_fm,2*(i+1))\n",
    "\n",
    "    GM = G_0 * (1. - np.power((Q_fm/Q_0),2)) * (1./poly)\n",
    "    return GM"
   ]
  },
  {
   "cell_type": "code",
   "execution_count": 11,
   "metadata": {},
   "outputs": [],
   "source": [
    "#GM -- Abbott Parameterization I -- modified to a linear function for 3.5<Q2<6\n",
    "def GM_Mod(Q2):\n",
    "\n",
    "    G_0 = 1.714\n",
    "    Q_0 = 7.37\n",
    "    a = [5.804E-01, 8.701E-02, -3.624E-03, 3.448E-04, -2.818E-06]\n",
    "\n",
    "    if(Q2<3.5 or Q2>6):\n",
    "\n",
    "        Q_fm = np.sqrt(Q2)*(1./0.1973) #Q in fm^-1\n",
    "\n",
    "        poly = 1.\n",
    "\n",
    "        for i in range(0, len(a)):\n",
    "            poly += a[i]*np.power(Q_fm,2*(i+1))\n",
    "\n",
    "        GM = G_0 * (1. - np.power((Q_fm/Q_0),2)) * (1./poly)\n",
    "        return GM\n",
    "    else:\n",
    "        Q_low = np.sqrt(3.5)*(1./0.1973)\n",
    "        Q_hi = np.sqrt(6.0)*(1./0.1973)\n",
    "        \n",
    "        poly_low = 1.\n",
    "\n",
    "        for i in range(0, len(a)):\n",
    "            poly_low += a[i]*np.power(Q_low,2*(i+1))\n",
    "            \n",
    "        poly_hi = 1.\n",
    "\n",
    "        for i in range(0, len(a)):\n",
    "            poly_hi += a[i]*np.power(Q_hi,2*(i+1))\n",
    "\n",
    "        GM_low = G_0 * (1. - np.power((Q_low/Q_0),2)) * (1./poly_low)\n",
    "        GM_hi = G_0 * (1. - np.power((Q_hi/Q_0),2)) * (1./poly_hi)\n",
    "        return (GM_hi-GM_low)*((Q2-3.5)/(6.-3.5)) + GM_low"
   ]
  },
  {
   "cell_type": "code",
   "execution_count": 9,
   "metadata": {},
   "outputs": [],
   "source": [
    "#A -- Abbott Parameterization I\n",
    "def A_d(Q2):\n",
    "    return np.power(GC(Q2),2) + (8./9.)*eta(Q2)*eta(Q2)*np.power(GQ(Q2),2) + (2./3.)*eta(Q2)*np.power(GM(Q2),2)"
   ]
  },
  {
   "cell_type": "code",
   "execution_count": 10,
   "metadata": {},
   "outputs": [],
   "source": [
    "#B -- Abbott Parameterization I\n",
    "def B_d(Q2):\n",
    "      return (4./3.)*eta(Q2)*(1.+eta(Q2))*np.power(GM(Q2),2)"
   ]
  },
  {
   "cell_type": "code",
   "execution_count": 11,
   "metadata": {},
   "outputs": [],
   "source": [
    "#A -- Abbott Parameterization I w/Modified GM\n",
    "def A_d_M(Q2):\n",
    "    return np.power(GC(Q2),2) + (8./9.)*eta(Q2)*eta(Q2)*np.power(GQ(Q2),2) + (2./3.)*eta(Q2)*np.power(GM_Mod(Q2),2)"
   ]
  },
  {
   "cell_type": "code",
   "execution_count": 12,
   "metadata": {},
   "outputs": [],
   "source": [
    "#B -- Abbott Parameterization I w/Modified GM\n",
    "def B_d_M(Q2):\n",
    "    return (4./3.)*eta(Q2)*(1.+eta(Q2))*np.power(GM_Mod(Q2),2)"
   ]
  },
  {
   "cell_type": "code",
   "execution_count": 13,
   "metadata": {},
   "outputs": [],
   "source": [
    "#A -- Long Parameterization\n",
    "def A_d_L(Q2):\n",
    "\n",
    "    a = [-1.85931e-02, -1.37215e+01, 3.23622e+01, -4.29740e+01]\n",
    "    b = [-2.68235,-1.47849,0.0782541]\n",
    "\n",
    "    exp1 = a[0] + a[1]*Q2 + a[2]*np.power(Q2,2) + a[3]*np.power(Q2,3)\n",
    "    exp2 = b[0] + b[1]*Q2 + b[2]*np.power(Q2,2)\n",
    "\n",
    "    return np.power(10,exp1) + np.power(10,exp2)"
   ]
  },
  {
   "cell_type": "code",
   "execution_count": 14,
   "metadata": {},
   "outputs": [],
   "source": [
    "#B -- Long Parameterization\n",
    "def B_d_L(Q2):\n",
    "\n",
    "    b = [-2.26938, -3.18194, 0.147926]\n",
    "    exp1 = b[0] + b[1]*Q2 + b[2]*np.power(Q2,2)\n",
    "\n",
    "    return np.power(10,exp1)"
   ]
  },
  {
   "cell_type": "code",
   "execution_count": 15,
   "metadata": {},
   "outputs": [],
   "source": [
    "#T20 -- Abbott I w/Modified GM\n",
    "#theta is in degrees in initial deuteron rest frame\n",
    "#For plotting, we will show theta=70 degrees...as is standard\n",
    "def T20(Q2, theta):\n",
    "\n",
    "    theta_rad = np.radians(theta)\n",
    "\n",
    "    S = A_d_M(Q2) + np.power(tan(theta_rad/2.),2)*B_d_M(Q2)\n",
    "    epsilon = (1.+eta(Q2)) * np.power(np.tan(theta_rad/2.),2)\n",
    "\n",
    "    T20 = -1.*( np.sqrt(2.)*eta(Q2)/(3.*S) )\n",
    "    T20 *= ( 4*GC(Q2)*GQ(Q2) + (4.*eta(Q2)/3.)*GQ(Q2)*GQ(Q2) + ((1./2.) + epsilon)*GM_Mod(Q2)*GM_Mod(Q2) )\n",
    "    \n",
    "    return T20"
   ]
  },
  {
   "cell_type": "code",
   "execution_count": 16,
   "metadata": {},
   "outputs": [],
   "source": [
    "#T21 -- Abbott I w/Modified GM\n",
    "#theta is in degrees in initial deuteron rest frame\n",
    "#For plotting, we will show theta=70 degrees...as is standard\n",
    "def T21(Q2, theta):\n",
    "\n",
    "    theta_rad = np.radians(theta)\n",
    "\n",
    "    S = A_d_M(Q2) + np.power(np.tan(theta_rad/2.),2)*B_d_M(Q2)\n",
    "    epsilon = (1.+eta(Q2)) * np.power(np.tan(theta_rad/2.),2)\n",
    "\n",
    "    T21 = (2./S) * sqrt( np.power(eta(Q2),3)*(1.+epsilon )/3. ) * GQ(Q2) * GM_Mod(Q2)\n",
    "\n",
    "    return T21"
   ]
  },
  {
   "cell_type": "code",
   "execution_count": 17,
   "metadata": {},
   "outputs": [],
   "source": [
    "#T22 -- Abbott I w/Modified GM\n",
    "#theta is in degrees in initial deuteron rest frame\n",
    "#For plotting, we will show theta=70 degrees...as is standard\n",
    "def T22(Q2, theta):\n",
    "  \n",
    "    theta_rad = np.radians(theta)\n",
    "\n",
    "    S = A_d_M(Q2) + np.power(np.tan(theta_rad/2.),2)*B_d_M(Q2)\n",
    "\n",
    "    T22 = ( eta(Q2)/(2.*np.sqrt(3.)*S) )  * GM_Mod(Q2) * GM_Mod(Q2)\n",
    "\n",
    "    return T22"
   ]
  },
  {
   "cell_type": "code",
   "execution_count": 18,
   "metadata": {},
   "outputs": [],
   "source": [
    "#Elastic Differential Cross Section dsigma/dQ2\n",
    "#Will return cs in pb/GeV^2\n",
    "def diff_cs(x, par):\n",
    "\n",
    "    Q2 = x[0]\n",
    "\n",
    "    index = par[0];\n",
    "    y = Q2/( 4.*Ei[index] * Di[index] ); #Ignoring Masses\n",
    "\n",
    "    dsig_dQ2 = 0\n",
    "\n",
    "    if(y<=1):\n",
    "        dsig_dQ2 = 4.*np.pi*alpha*alpha/(np.power(Q2,2))\n",
    "\n",
    "        if( np.abs(par[1])<1E-4 ):\n",
    "            dsig_dQ2 = dsig_dQ2*( A_d(Q2)*(1.-y-(Md*Md*y*y/Q2)) + B_d(Q2)*(y*y/(4*eta(Q2))) ); #Abbott I\n",
    "        elif( np.abs(par[1]-1.)<1E-4 ):\n",
    "            dsig_dQ2 = dsig_dQ2*( A_d_M(Q2)*(1.-y-(Md*Md*y*y/Q2)) + B_d_M(Q2)*(y*y/(4*eta(Q2))) ); #Abbott I w/ Modified GM\n",
    "        elif( np.abs(par[1]-2.)<1E-4 ):\n",
    "            dsig_dQ2 = dsig_dQ2*( A_d_L(Q2)*(1.-y-(Md*Md*y*y/Q2)) + B_d_L(Q2)*(y*y/(4*eta(Q2))) ); #Long Fit\n",
    "\n",
    "        dsig_dQ2 = dsig_dQ2*0.3894*1e9;\n",
    "    else:\n",
    "        dsig_dQ2 = 0;\n",
    "\n",
    "    return dsig_dQ2\n"
   ]
  },
  {
   "cell_type": "markdown",
   "metadata": {},
   "source": [
    "# Graphing"
   ]
  },
  {
   "cell_type": "code",
   "execution_count": 19,
   "metadata": {},
   "outputs": [],
   "source": [
    "#Read in data file and put into graph\n",
    "#Assumes file is in format x,y,yerr\n",
    "#For Form-Factors, have option to draw absolute value\n",
    "def Data_Graph(infile, abso = False):\n",
    "\n",
    "    #Create graph\n",
    "    fig, ax = plt.subplots()\n",
    "\n",
    "    #Read input file\n",
    "    in_data = np.loadtxt(infile)\n",
    "\n",
    "    #Write to Graph\n",
    "    x = in_data[:, 0]\n",
    "    y = in_data[:, 1]\n",
    "    ey = in_data[:, 2]\n",
    "    \n",
    "    if(abso):\n",
    "        y = np.abs(y)\n",
    "    \n",
    "    ax.errorbar(x, y, yerr = ey, fmt='o')\n",
    "\n",
    "    print('We read {} lines from data file {} !'.format(in_data.shape[0], infile))\n",
    "    return ax"
   ]
  },
  {
   "cell_type": "code",
   "execution_count": 20,
   "metadata": {},
   "outputs": [],
   "source": [
    "#ax.set_yscale('log')"
   ]
  },
  {
   "cell_type": "code",
   "execution_count": 21,
   "metadata": {},
   "outputs": [],
   "source": [
    "#Read in data file and put into graph (TGraphAsymmErrors)\n",
    "#Assumes file is in format x,y,yerr_hi,yerr_low\n",
    "#For Form-Factors, have option to draw absolute value\n",
    "def Data_Graph_Asymm(infile, abso = False):\n",
    "\n",
    "    #Create graph\n",
    "    fig, ax = plt.subplots()\n",
    "\n",
    "    #Read input file\n",
    "    in_data = np.loadtxt(infile)\n",
    "\n",
    "    #Write to Graph\n",
    "    x = in_data[:, 0]\n",
    "    y = in_data[:, 1]\n",
    "    ey_hi = in_data[:, 2]\n",
    "    ey_low = in_data[:, 3]\n",
    "    \n",
    "    if(abso):\n",
    "        for i in range(0, len(y)):\n",
    "            if(y[i] <= 0):\n",
    "                temporary = ey_low[i]\n",
    "                ey_low[i] = ey_hi[i]\n",
    "                ey_hi[i] = temporary\n",
    "            y[i] = np.abs(y[i])\n",
    "    \n",
    "    ax.errorbar(x, y, yerr=[ey_low, ey_hi], fmt='o')\n",
    "\n",
    "    print('We read {} lines from data file {} !'.format(in_data.shape[0], infile))\n",
    "    return ax"
   ]
  },
  {
   "cell_type": "markdown",
   "metadata": {},
   "source": [
    "# Main"
   ]
  },
  {
   "cell_type": "code",
   "execution_count": 22,
   "metadata": {},
   "outputs": [
    {
     "data": {
      "image/png": "[encoded data removed]",
      "text/plain": [
       "<Figure size 432x288 with 1 Axes>"
      ]
     },
     "metadata": {
      "needs_background": "light"
     },
     "output_type": "display_data"
    },
    {
     "data": {
      "image/png": "[encoded data removed]",
      "text/plain": [
       "<Figure size 432x288 with 1 Axes>"
      ]
     },
     "metadata": {
      "needs_background": "light"
     },
     "output_type": "display_data"
    },
    {
     "data": {
      "image/png": "[encoded data removed]",
      "text/plain": [
       "<Figure size 432x288 with 1 Axes>"
      ]
     },
     "metadata": {
      "needs_background": "light"
     },
     "output_type": "display_data"
    },
    {
     "data": {
      "image/png": "[encoded data removed]",
      "text/plain": [
       "<Figure size 432x288 with 1 Axes>"
      ]
     },
     "metadata": {
      "needs_background": "light"
     },
     "output_type": "display_data"
    },
    {
     "data": {
      "image/png": "[encoded data removed]",
      "text/plain": [
       "<Figure size 432x288 with 1 Axes>"
      ]
     },
     "metadata": {
      "needs_background": "light"
     },
     "output_type": "display_data"
    },
    {
     "data": {
      "image/png": "[encoded data removed]",
      "text/plain": [
       "<Figure size 432x288 with 1 Axes>"
      ]
     },
     "metadata": {
      "needs_background": "light"
     },
     "output_type": "display_data"
    },
    {
     "data": {
      "image/png": "[encoded data removed]",
      "text/plain": [
       "<Figure size 432x288 with 1 Axes>"
      ]
     },
     "metadata": {
      "needs_background": "light"
     },
     "output_type": "display_data"
    },
    {
     "data": {
      "image/png": "[encoded data removed]",
      "text/plain": [
       "<Figure size 432x288 with 1 Axes>"
      ]
     },
     "metadata": {
      "needs_background": "light"
     },
     "output_type": "display_data"
    },
    {
     "data": {
      "image/png": "[encoded data removed]",
      "text/plain": [
       "<Figure size 432x288 with 1 Axes>"
      ]
     },
     "metadata": {
      "needs_background": "light"
     },
     "output_type": "display_data"
    },
    {
     "data": {
      "image/png": "[encoded data removed]",
      "text/plain": [
       "<Figure size 432x288 with 1 Axes>"
      ]
     },
     "metadata": {
      "needs_background": "light"
     },
     "output_type": "display_data"
    },
    {
     "data": {
      "image/png": "[encoded data removed]",
      "text/plain": [
       "<Figure size 432x288 with 1 Axes>"
      ]
     },
     "metadata": {
      "needs_background": "light"
     },
     "output_type": "display_data"
    },
    {
     "data": {
      "image/png": "[encoded data removed]",
      "text/plain": [
       "<Figure size 432x288 with 1 Axes>"
      ]
     },
     "metadata": {
      "needs_background": "light"
     },
     "output_type": "display_data"
    },
    {
     "data": {
      "image/png": "[encoded data removed]",
      "text/plain": [
       "<Figure size 432x288 with 1 Axes>"
      ]
     },
     "metadata": {
      "needs_background": "light"
     },
     "output_type": "display_data"
    },
    {
     "data": {
      "image/png": "[encoded data removed]",
      "text/plain": [
       "<Figure size 432x288 with 1 Axes>"
      ]
     },
     "metadata": {
      "needs_background": "light"
     },
     "output_type": "display_data"
    },
    {
     "data": {
      "image/png": "[encoded data removed]",
      "text/plain": [
       "<Figure size 432x288 with 1 Axes>"
      ]
     },
     "metadata": {
      "needs_background": "light"
     },
     "output_type": "display_data"
    }
   ],
   "source": [
    "#Set ROOT Style\n",
    "# gStyle->SetPadBorderMode(0);\n",
    "# gStyle->SetFrameBorderMode(0);\n",
    "# gStyle->SetFrameLineWidth(2);\n",
    "# gStyle->SetOptStat(0);\n",
    "# gStyle->SetNdivisions(405,\"X\");\n",
    "# gStyle->SetNdivisions(405,\"Y\");\n",
    "# gStyle->SetLabelSize(0.05,\"X\");\n",
    "# gStyle->SetLabelSize(0.05,\"Y\");\n",
    "# gStyle->SetLabelOffset(0.01,\"X\");\n",
    "# gStyle->SetLabelOffset(0.01,\"Y\");\n",
    "# gStyle->SetTitleXSize(0.05);\n",
    "# gStyle->SetTitleXOffset(0.8);\n",
    "# gStyle->SetTitleYSize(0.055);\n",
    "# gStyle->SetTitleYOffset(0.9);\n",
    "\n",
    "# TF1 *f1[ne], *f2[ne], *f3[ne];\n",
    "# TGraph *gr1[ne],*gr2[ne],*gr3[ne],*gr4[ne],*gr5[ne],*gr6[ne];\n",
    "# TGraph *gr4a[ne],*gr6a[ne];\n",
    "# TGraph *g_cs1[ne],*g_cs2[ne],*g_cs3[ne];\n",
    "\n",
    "#Form Factors\n",
    "#Log\n",
    "# TGraph *g_gc = new TGraph();\n",
    "# g_gc->SetLineColor(kBlue);\n",
    "# g_gc->SetLineWidth(3);\n",
    "# g_gc->GetXaxis()->CenterTitle();\n",
    "# g_gc->GetXaxis()->SetTitle(\"Q^{2} [GeV^{2}]\");\n",
    "# g_gc->SetTitle(\"|G_{C}| -- Abbott I\");\n",
    "g_gc_fig, g_gc_ax = plt.subplots()\n",
    "g_gc_ax.set_xlabel('Q$^{2}$ [GeV$^{2}$]')\n",
    "g_gc_ax.set_title('|G$_{C}$| -- Abbott I')\n",
    "\n",
    "#Linear\n",
    "# TGraph *g_gcl = new TGraph();\n",
    "# g_gcl->SetLineColor(kBlue);\n",
    "# g_gcl->SetLineWidth(3);\n",
    "# g_gcl->GetXaxis()->CenterTitle();\n",
    "# g_gcl->GetXaxis()->SetTitle(\"Q^{2} [GeV^{2}]\");\n",
    "# g_gcl->SetTitle(\"G_{C} -- Abbott I\");\n",
    "g_gcl_fig, g_gcl_ax = plt.subplots()\n",
    "g_gcl_ax.set_xlabel('Q$^{2}$ [GeV$^{2}$]')\n",
    "g_gcl_ax.set_title('G$_{C}$ -- Abbott I')\n",
    "\n",
    "#Log\n",
    "# TGraph *g_gq = new TGraph();\n",
    "# g_gq->SetLineColor(kBlue);\n",
    "# g_gq->SetLineWidth(3);\n",
    "# g_gq->GetXaxis()->CenterTitle();\n",
    "# g_gq->GetXaxis()->SetTitle(\"Q^{2} [GeV^{2}]\");\n",
    "# g_gq->SetTitle(\"|G_{Q}| -- Abbott I\");\n",
    "g_gq_fig, g_gq_ax = plt.subplots()\n",
    "g_gq_ax.set_xlabel('Q$^{2}$ [GeV$^{2}$]')\n",
    "g_gq_ax.set_title('|G$_{Q}$| -- Abbott I')\n",
    "\n",
    "#Linear\n",
    "# TGraph *g_gql = new TGraph();\n",
    "# g_gql->SetLineColor(kBlue);\n",
    "# g_gql->SetLineWidth(3);\n",
    "# g_gql->GetXaxis()->CenterTitle();\n",
    "# g_gql->GetXaxis()->SetTitle(\"Q^{2} [GeV^{2}]\");\n",
    "# g_gql->SetTitle(\"G_{Q} -- Abbott I\");\n",
    "g_gql_fig, g_gql_ax = plt.subplots()\n",
    "g_gql_ax.set_xlabel('Q$^{2}$ [GeV$^{2}$]')\n",
    "g_gql_ax.set_title('G$_{Q}$ -- Abbott I')\n",
    "\n",
    "#Log\n",
    "# TGraph *g_gm = new TGraph();\n",
    "# g_gm->SetLineColor(kBlue);\n",
    "# g_gm->SetLineWidth(3);\n",
    "# g_gm->GetXaxis()->CenterTitle();\n",
    "# g_gm->GetXaxis()->SetTitle(\"Q^{2} [GeV^{2}]\");\n",
    "# g_gm->SetTitle(\"|G_{M}| -- Abbott I\");\n",
    "g_gm_fig, g_gm_ax = plt.subplots()\n",
    "g_gm_ax.set_xlabel('Q$^{2}$ [GeV$^{2}$]')\n",
    "g_gm_ax.set_title('|G$_{M}$| -- Abbott I')\n",
    "\n",
    "#Linear\n",
    "# TGraph *g_gml = new TGraph();\n",
    "# g_gml->SetLineColor(kBlue);\n",
    "# g_gml->SetLineWidth(3);\n",
    "# g_gml->GetXaxis()->CenterTitle();\n",
    "# g_gml->GetXaxis()->SetTitle(\"Q^{2} [GeV^{2}]\");\n",
    "# g_gml->SetTitle(\"G_{M} -- Abbott I\");\n",
    "g_gml_fig, g_gml_ax = plt.subplots()\n",
    "g_gml_ax.set_xlabel('Q$^{2}$ [GeV$^{2}$]')\n",
    "g_gml_ax.set_title('G$_{M}$ -- Abbott I')\n",
    "\n",
    "#Abbott I -- Modified (Log)\n",
    "# TGraph *g_gm_mod = new TGraph();\n",
    "# g_gm_mod->SetLineColor(kGreen);\n",
    "# g_gm_mod->SetLineWidth(3);\n",
    "g_gm_mod_fig, g_gm_mod_ax = plt.subplots()\n",
    "\n",
    "#Abbott I -- Modified (Linear)\n",
    "# TGraph *g_gm_modl = new TGraph();\n",
    "# g_gm_modl->SetLineColor(kGreen);\n",
    "# g_gm_modl->SetLineWidth(3);\n",
    "g_gm_modl_fig, g_gm_modl_ax = plt.subplots()\n",
    "\n",
    "#Abbott I -- Modified\n",
    "# TGraph *g_t20 = new TGraph();\n",
    "# g_t20->SetLineColor(kGreen);\n",
    "# g_t20->SetLineWidth(3);\n",
    "g_t20_fig, g_t20_ax = plt.subplots()\n",
    "\n",
    "#Abbott I -- Modified\n",
    "# TGraph *g_t21 = new TGraph();\n",
    "# g_t21->SetLineColor(kGreen);\n",
    "# g_t21->SetLineWidth(3);\n",
    "g_t21_fig, g_t21_ax = plt.subplots()\n",
    "\n",
    "#Abbott I -- Modified\n",
    "# TGraph *g_t22 = new TGraph();\n",
    "# g_t22->SetLineColor(kGreen);\n",
    "# g_t22->SetLineWidth(3);\n",
    "g_t22_fig, g_t22_ax = plt.subplots()\n",
    "\n",
    "#Abbott I -- Modified\n",
    "# TGraph *g_a1 = new TGraph();\n",
    "# g_a1->SetLineColor(kGreen);\n",
    "# g_a1->SetLineWidth(3);\n",
    "# g_a1->GetXaxis()->CenterTitle();\n",
    "# g_a1->GetXaxis()->SetTitle(\"Q^{2} [GeV^{2}]\");\n",
    "# g_a1->SetTitle(\"A\");\n",
    "g_a1_fig, g_a1_ax = plt.subplots()\n",
    "g_a1_ax.set_xlabel('Q$^{2}$ [GeV$^{2}$]')\n",
    "g_a1_ax.set_title('A')\n",
    "\n",
    "#Abbott I -- Modified\n",
    "# TGraph *g_b1 = new TGraph();\n",
    "# g_b1->SetLineColor(kGreen);\n",
    "# g_b1->SetLineWidth(3);\n",
    "# g_b1->GetXaxis()->CenterTitle();\n",
    "# g_b1->GetXaxis()->SetTitle(\"Q^{2} [GeV^{2}]\");\n",
    "# g_b1->SetTitle(\"B\");\n",
    "g_b1_fig, g_b1_ax = plt.subplots()\n",
    "g_b1_ax.set_xlabel('Q$^{2}$ [GeV$^{2}$]')\n",
    "g_b1_ax.set_title('B')\n",
    "\n",
    "#Long\n",
    "# TGraph *g_a2 = new TGraph();\n",
    "# g_a2->SetLineColor(kRed);\n",
    "# g_a2->SetLineWidth(3);\n",
    "g_a2_fig, g_a2_ax = plt.subplots()\n",
    "\n",
    "#Long\n",
    "# TGraph *g_b2 = new TGraph();\n",
    "# g_b2->SetLineColor(kRed);\n",
    "# g_b2->SetLineWidth(3);\n",
    "g_b2_fig, g_b2_ax = plt.subplots()"
   ]
  },
  {
   "cell_type": "code",
   "execution_count": null,
   "metadata": {},
   "outputs": [],
   "source": [
    "#Data&Theory Files\n",
    "print('-------------------------------')\n",
    "g_data_A = Data_Graph(\"input_files/A_data.txt\");\n",
    "Tg_data_B = Data_Graph(\"input_files/B_data.txt\");\n",
    "g_theory_GC = Data_Graph(\"input_files/IAMEC_GC.txt\", True);\n",
    "g_theory_GQ = Data_Graph(\"input_files/IAMEC_GQ.txt\", True);\n",
    "g_theory_GM = Data_Graph(\"input_files/IAMEC_GM.txt\", True);\n",
    "g_theory_A = Data_Graph(\"input_files/IAMEC_A.txt\");\n",
    "g_theory_B = Data_Graph(\"input_files/IAMEC_B.txt\");\n",
    "g_data_GC = Data_Graph_Asymm(\"input_files/GC_data.txt\", True);\n",
    "g_data_GQ = Data_Graph_Asymm(\"input_files/GQ_data.txt\", True);\n",
    "g_data_GM = Data_Graph_Asymm(\"input_files/GM_data.txt\", True);\n",
    "g_data_T20 = Data_Graph(\"input_files/T20_Data.txt\");\n",
    "g_data_T21 = Data_Graph(\"input_files/T21_Data.txt\");\n",
    "g_data_T22 = Data_Graph(\"input_files/T22_Data.txt\");\n",
    "g_theory_T20 = Data_Graph(\"input_files/IAMEC_T20.txt\");\n",
    "g_theory_T21 = Data_Graph(\"input_files/IAMEC_T21.txt\");\n",
    "g_theory_T22 = Data_Graph(\"input_files/IAMEC_T22.txt\");\n",
    "print('-------------------------------')"
   ]
  },
  {
   "cell_type": "code",
   "execution_count": 24,
   "metadata": {},
   "outputs": [],
   "source": [
    "# for(Int_t k=0;k<ne;k++){\n",
    "\n",
    "#     Double_t s_cm = 4*Ei[k]*Di[k]; //Square of Electron-Deuteron COM Energy (Ignore Masses)\n",
    "\n",
    "#     //Electron-Deuteron Differential Cross Section in pb/GeV^2\n",
    "    f1[k] = new TF1(Form(\"f1[%d]\",k),diff_cs,0.01,15,2); //Abbott I\n",
    "    TF1('f1[{}]'.format(k), diff_cs, )\n",
    "#     f1[k]->SetParameter(0,k);\n",
    "#     f1[k]->SetParameter(1,0);\n",
    "#     f1[k]->SetLineWidth(2);f1[k]->SetLineColor(k+1);\n",
    "\n",
    "#     f2[k] = new TF1(Form(\"f2[%d]\",k),diff_cs,0.01,15,2); //Abbott I -- Modified\n",
    "#     f2[k]->SetParameter(0,k);\n",
    "#     f2[k]->SetParameter(1,1);\n",
    "#     f2[k]->SetLineWidth(2);f2[k]->SetLineColor(k+1);\n",
    "\n",
    "#     f3[k] = new TF1(Form(\"f3[%d]\",k),diff_cs,0.01,15,2); //Long Fit\n",
    "#     f3[k]->SetParameter(0,k);\n",
    "#     f3[k]->SetParameter(1,2);\n",
    "#     f3[k]->SetLineWidth(2);f3[k]->SetLineColor(k+1);\n",
    "\n",
    "#     //Luminosity in pb^-1 (100 fb^-1 lum in terms of nucleons -> 50 fb^-1 for deuteron)\n",
    "#     const Double_t lum = 50E3;\n",
    "\n",
    "#     //Make plots\n",
    "#     //Plotting Variables\n",
    "#     Double_t Q2_plot(0),y_plot(0),epsilon_plot(0);\n",
    "#     Double_t ef_e_plot(0),ef_theta_plot(0),df_e_plot(0),df_theta_plot(0);\n",
    "#     Double_t Q2_low(0),y_low(0),ef_theta_low(0),df_theta_low(0);\n",
    "\n",
    "#     //TGraphs\n",
    "#     gr1[k] = new TGraph(); //Q2 vs. y_d\n",
    "#     gr1[k]->SetLineWidth(2);gr1[k]->SetLineColor(k+1);\n",
    "\n",
    "#     gr2[k] = new TGraph(); //Q2 vs. epsilon_d\n",
    "#     gr2[k]->SetLineWidth(2);gr2[k]->SetLineColor(k+1);\n",
    "\n",
    "#     gr3[k] = new TGraph(); //Q2 vs. ef_e\n",
    "#     gr3[k]->SetLineWidth(2);gr3[k]->SetLineColor(k+1);\n",
    "\n",
    "#     gr4[k] = new TGraph(); //Q2 vs. ef_theta\n",
    "#     gr4[k]->SetLineWidth(2);gr4[k]->SetLineColor(k+1);\n",
    "\n",
    "#     gr4a[k] = new TGraph(); //Q2 vs. ef_theta (Q2<1)\n",
    "#     gr4a[k]->SetLineWidth(2);gr4a[k]->SetLineColor(k+1);\n",
    "\n",
    "#     gr5[k] = new TGraph(); //Q2 vs. df_e\n",
    "#     gr5[k]->SetLineWidth(2);gr5[k]->SetLineColor(k+1);\n",
    "\n",
    "#     gr6[k] = new TGraph(); //Q2 vs. df_theta\n",
    "#     gr6[k]->SetLineWidth(2);gr6[k]->SetLineColor(k+1);\n",
    "\n",
    "#     gr6a[k] = new TGraph(); //Q2 vs. df_theta (Q2<1)\n",
    "#     gr6a[k]->SetLineWidth(2);gr6a[k]->SetLineColor(k+1);\n",
    "\n",
    "#     g_cs1[k] = new TGraph(); //Cross Section vs. Q2\n",
    "#     g_cs1[k]->SetLineWidth(2);g_cs1[k]->SetLineColor(k+1);\n",
    "\n",
    "#     g_cs2[k] = new TGraph(); //Cross Section vs. Q2\n",
    "#     g_cs2[k]->SetLineWidth(2);g_cs2[k]->SetLineColor(k+1);\n",
    "\n",
    "#     g_cs3[k] = new TGraph(); //Cross Section vs. Q2\n",
    "#     g_cs3[k]->SetLineWidth(2);g_cs3[k]->SetLineColor(k+1);\n",
    "\n",
    "#     Double_t *vec_index = new Double_t[2];\n",
    "\n",
    "#     for(Int_t i=0;i<1500;i++){\n",
    "\n",
    "#         Q2_plot = (i+1)*0.01;\n",
    "#         y_plot = Q2_plot / s_cm ; //x_d=1 for elastic (again ignoring masses)\n",
    "\n",
    "#         //This is epsilon_d. I ignore gamma**2 terms here. Even though gamma**2 can be large at small Q2,\n",
    "#         //this corresponds to extremely small y; at very Q^2, gamma**2 is small.\n",
    "#         epsilon_plot = (1.-y_plot) / ( 1.-y_plot+(y_plot*y_plot/2.) ); \n",
    "\n",
    "#         ef_e_plot = (1. - y_plot)*Ei[k] + y_plot*Di[k];\n",
    "#         ef_theta_plot = TMath::RadToDeg() * TMath::ACos( (y_plot*Di[k] - (1.-y_plot)*Ei[k])/(y_plot*Di[k] + (1.-y_plot)*Ei[k]) );\n",
    "#         df_e_plot = y_plot*Ei[k] + (1.-y_plot)*Di[k];\n",
    "#         df_theta_plot = TMath::RadToDeg() * TMath::ACos( (-y_plot*Ei[k] + (1.-y_plot)*Di[k])/(y_plot*Ei[k] + (1.-y_plot)*Di[k]) );\n",
    "\n",
    "#         if(y_plot<=1){\n",
    "#             gr1[k]->SetPoint(i,Q2_plot,y_plot);\n",
    "#             gr2[k]->SetPoint(i,Q2_plot,epsilon_plot);\n",
    "\n",
    "#             gr3[k]->SetPoint(i,Q2_plot,ef_e_plot);\n",
    "#             gr4[k]->SetPoint(i,Q2_plot,ef_theta_plot);\n",
    "#             gr5[k]->SetPoint(i,Q2_plot,df_e_plot);\n",
    "#             gr6[k]->SetPoint(i,Q2_plot,df_theta_plot);\n",
    "\n",
    "#             vec_index[0] = (Double_t) k;\n",
    "#             vec_index[1] = (Double_t) 0;\n",
    "#             g_cs1[k]->SetPoint(i,Q2_plot,diff_cs(&Q2_plot,vec_index));\n",
    "#             vec_index[1] = (Double_t) 1;\n",
    "#             g_cs2[k]->SetPoint(i,Q2_plot,diff_cs(&Q2_plot,vec_index));\n",
    "#             vec_index[1] = (Double_t) 2;\n",
    "#             g_cs3[k]->SetPoint(i,Q2_plot,diff_cs(&Q2_plot,vec_index));\n",
    "\n",
    "#             if(k==0){\n",
    "#                 g_gc->SetPoint(i,Q2_plot,fabs(GC(Q2_plot)));\n",
    "#                 g_gcl->SetPoint(i,Q2_plot,GC(Q2_plot));\n",
    "#                 g_gq->SetPoint(i,Q2_plot,fabs(GQ(Q2_plot)));\n",
    "#                 g_gql->SetPoint(i,Q2_plot,GQ(Q2_plot));\n",
    "#                 g_gm->SetPoint(i,Q2_plot,fabs(GM(Q2_plot)));\n",
    "#                 g_gml->SetPoint(i,Q2_plot,GM(Q2_plot));\n",
    "#                 g_gm_mod->SetPoint(i,Q2_plot,fabs(GM_Mod(Q2_plot)));\n",
    "#                 g_gm_modl->SetPoint(i,Q2_plot,GM_Mod(Q2_plot));\n",
    "#                 g_t20->SetPoint(i,Q2_plot, T20(Q2_plot,70.) );\n",
    "#                 g_t21->SetPoint(i,Q2_plot, T21(Q2_plot,70.) );\n",
    "#                 g_t22->SetPoint(i,Q2_plot, T22(Q2_plot,70.) );\n",
    "\n",
    "#                 g_a1->SetPoint(i,Q2_plot,A_d_M(Q2_plot));\n",
    "#                 g_b1->SetPoint(i,Q2_plot,B_d_M(Q2_plot));\n",
    "#                 g_a2->SetPoint(i,Q2_plot,A_d_L(Q2_plot));\n",
    "#                 g_b2->SetPoint(i,Q2_plot,B_d_L(Q2_plot));\n",
    "#             }\n",
    "\n",
    "#         }\n",
    "\n",
    "#         //Do low Q2\n",
    "#         Q2_low = 0.01+i*6.6e-4;\n",
    "#         y_low = Q2_low / s_cm ;\n",
    "#         ef_theta_low = TMath::RadToDeg() * TMath::ACos( (y_low*Di[k] - (1.-y_low)*Ei[k])/(y_low*Di[k] + (1.-y_low)*Ei[k]) );\n",
    "#         df_theta_low = TMath::RadToDeg() * TMath::ACos( (-y_low*Ei[k] + (1.-y_low)*Di[k])/(y_low*Ei[k] + (1.-y_low)*Di[k]) );\n",
    "\n",
    "#         if(y_plot<=1){\n",
    "#             gr4a[k]->SetPoint(i,Q2_low,ef_theta_low);\n",
    "#             gr6a[k]->SetPoint(i,Q2_low,df_theta_low);\n",
    "#         }\n",
    "\n",
    "#     }\n",
    "# }\n",
    "for k in range(0, ne):\n",
    "    \n",
    "    #Square of Electron-Deuteron COM Energy (Ignore Masses)\n",
    "    s_cm = 4*Ei[k]*Di[k]"
   ]
  },
  {
   "cell_type": "code",
   "execution_count": 29,
   "metadata": {},
   "outputs": [
    {
     "ename": "SyntaxError",
     "evalue": "invalid syntax (<ipython-input-29-c91d24b23a56>, line 1)",
     "output_type": "error",
     "traceback": [
      "\u001b[1;36m  File \u001b[1;32m\"<ipython-input-29-c91d24b23a56>\"\u001b[1;36m, line \u001b[1;32m1\u001b[0m\n\u001b[1;33m    //Draw Plots\u001b[0m\n\u001b[1;37m     ^\u001b[0m\n\u001b[1;31mSyntaxError\u001b[0m\u001b[1;31m:\u001b[0m invalid syntax\n"
     ]
    }
   ],
   "source": [
    "//Draw Plots\n",
    "TCanvas *c1 = new TCanvas(\"c1\");\n",
    "c1->SetLogy();\n",
    "TH1 *h1 = gPad->DrawFrame(0,1.1E-9,15,1E7);\n",
    "h1->GetXaxis()->SetTitle(\"Q^{2} [GeV^{2}]\");h1->GetXaxis()->CenterTitle();\n",
    "h1->GetYaxis()->SetTitle(\"d#sigma/dQ^{2} [pb/GeV^{2}]\");h1->GetYaxis()->CenterTitle();\n",
    "h1->Draw();\n",
    "\n",
    "TLegend *leg1 = new TLegend(0.375,0.6,0.875,0.875);\n",
    "leg1->SetBorderSize(0);leg1->SetTextSize(0.025);\n",
    "\n",
    "for(Int_t k=0;k<ne;k++){\n",
    "f1[k]->Draw(\"same\");\n",
    "leg1->AddEntry(Form(\"f1[%d]\",k),Form(\"E_{e} = %.0f GeV, E_{d} = %.0f GeV/nucleon -- #sqrt{s}_{ed} = %.1f GeV\",\n",
    "                                Ei[k],Di[k]/2.,TMath::Sqrt(4*Ei[k]*Di[k])),\"l\");\n",
    "}\n",
    "leg1->Draw();\n",
    "TLatex *tex1 = new TLatex(5.5,0.4,\"Using Abbott I Parameterization\");\n",
    "tex1->SetTextColor(kBlack);tex1->SetTextSize(0.04);tex1->SetTextFont(42);\n",
    "tex1->Draw();\n",
    "\n",
    "TCanvas *c1a = new TCanvas(\"c1a\");\n",
    "c1a->SetLogy();\n",
    "h1->Draw();leg1->Draw();\n",
    "\n",
    "for(Int_t k=0;k<ne;k++){\n",
    "f2[k]->Draw(\"same\");\n",
    "}\n",
    "\n",
    "TLatex *tex1a = new TLatex(5.5,0.4,\"Using Abbott I (Modified) Parameterization\");\n",
    "tex1a->SetTextColor(kBlack);tex1a->SetTextSize(0.04);tex1a->SetTextFont(42);\n",
    "tex1a->Draw();\n",
    "\n",
    "TCanvas *c1b = new TCanvas(\"c1b\");\n",
    "c1b->SetLogy();\n",
    "h1->Draw();leg1->Draw();\n",
    "\n",
    "for(Int_t k=0;k<ne;k++){\n",
    "f3[k]->Draw(\"same\");\n",
    "}\n",
    "\n",
    "TLatex *tex1b = new TLatex(5.5,0.4,\"Using Long Fit\");\n",
    "tex1b->SetTextColor(kBlack);tex1b->SetTextSize(0.04);tex1b->SetTextFont(42);\n",
    "tex1b->Draw();\n",
    "\n",
    "TCanvas *c2 = new TCanvas(\"c2\");\n",
    "c2->Divide(1,2);\n",
    "\n",
    "c2->cd(1);\n",
    "TH1 *h2 = gPad->DrawFrame(0,0,15,0.02);\n",
    "h2->GetXaxis()->SetTitle(\"Q^{2} [GeV^{2}]\");h2->GetXaxis()->CenterTitle();\n",
    "h2->GetYaxis()->SetTitle(\"y\");h2->GetYaxis()->CenterTitle();\n",
    "h2->Draw();\n",
    "for(Int_t k=0;k<ne;k++){   \n",
    "gr1[k]->Draw(\"C same\");\n",
    "}\n",
    "\n",
    "c2->cd(2);\n",
    "TH1 *h3 = gPad->DrawFrame(0,0.9999,15,1);\n",
    "h3->GetXaxis()->SetTitle(\"Q^{2} [GeV^{2}]\");h3->GetXaxis()->CenterTitle();\n",
    "h3->GetYaxis()->SetTitle(\"#epsilon\");h3->GetYaxis()->CenterTitle();\n",
    "h3->Draw();\n",
    "for(Int_t k=0;k<ne;k++){\n",
    "gr2[k]->Draw(\"C same\");\n",
    "}\n",
    "\n",
    "TCanvas *c3 = new TCanvas(\"c3\");\n",
    "c3->Divide(2,2);\n",
    "\n",
    "c3->cd(1);\n",
    "TH1 *h3a = gPad->DrawFrame(0,0,15,25);\n",
    "h3a->GetXaxis()->SetTitle(\"Q^{2} [GeV^{2}]\");h3a->GetXaxis()->CenterTitle();\n",
    "h3a->GetYaxis()->SetTitle(\"E_{e} [GeV]\");h3a->GetYaxis()->CenterTitle();\n",
    "h3a->Draw();\n",
    "for(Int_t k=0;k<ne;k++){\n",
    "gr3[k]->Draw(\"C same\");\n",
    "}\n",
    "\n",
    "c3->cd(2);\n",
    "TH1 *h3b = gPad->DrawFrame(0,135,15,180);\n",
    "h3b->GetXaxis()->SetTitle(\"Q^{2} [GeV^{2}]\");h3b->GetXaxis()->CenterTitle();\n",
    "h3b->GetYaxis()->SetTitle(\"#theta_{e} [Degrees]\");h3b->GetYaxis()->CenterTitle();\n",
    "h3b->Draw();\n",
    "for(Int_t k=0;k<ne;k++){\n",
    "gr4[k]->Draw(\"C same\");\n",
    "}\n",
    "\n",
    "c3->cd(3);\n",
    "TH1 *h3c = gPad->DrawFrame(0,0,15,250);\n",
    "h3c->GetXaxis()->SetTitle(\"Q^{2} [GeV^{2}]\");h3c->GetXaxis()->CenterTitle();\n",
    "h3c->GetYaxis()->SetTitle(\"E_{d} [GeV]\");h3c->GetYaxis()->CenterTitle();\n",
    "h3c->Draw();\n",
    "for(Int_t k=0;k<ne;k++){\n",
    "gr5[k]->Draw(\"C same\");\n",
    "}\n",
    "\n",
    "c3->cd(4);\n",
    "TH1 *h3d = gPad->DrawFrame(0,0,15,4);\n",
    "h3d->GetXaxis()->SetTitle(\"Q^{2} [GeV^{2}]\");h3d->GetXaxis()->CenterTitle();\n",
    "h3d->GetYaxis()->SetTitle(\"#theta_{d} [Degrees]\");h3d->GetYaxis()->CenterTitle();\n",
    "h3d->Draw();\n",
    "for(Int_t k=0;k<ne;k++){\n",
    "gr6[k]->Draw(\"C same\");\n",
    "}\n",
    "\n",
    "TCanvas *c3a = new TCanvas(\"c3a\");\n",
    "TH1 *h3aa = gPad->DrawFrame(0,165,1,180);\n",
    "h3aa->GetXaxis()->SetTitle(\"Q^{2} [GeV^{2}]\");h3aa->GetXaxis()->CenterTitle();\n",
    "h3aa->GetYaxis()->SetTitle(\"#theta_{e} [Degrees]\");h3aa->GetYaxis()->CenterTitle();\n",
    "h3aa->Draw();\n",
    "for(Int_t k=0;k<ne;k++){\n",
    "gr4a[k]->Draw(\"C same\");\n",
    "}\n",
    "\n",
    "TCanvas *c3b = new TCanvas(\"c3b\");\n",
    "TH1 *h3bb = gPad->DrawFrame(0,0,1,1);\n",
    "h3bb->GetXaxis()->SetTitle(\"Q^{2} [GeV^{2}]\");h3bb->GetXaxis()->CenterTitle();\n",
    "h3bb->GetYaxis()->SetTitle(\"#theta_{d} [Degrees]\");h3bb->GetYaxis()->CenterTitle();\n",
    "h3bb->Draw();\n",
    "for(Int_t k=0;k<ne;k++){\n",
    "gr6a[k]->Draw(\"C same\");\n",
    "}\n",
    "\n",
    "TCanvas *c4 = new TCanvas(\"c4\");\n",
    "c4->Divide(3,1);\n",
    "c4->cd(1);gPad->SetLogy();g_gc->Draw(\"Al\");\n",
    "c4->cd(2);gPad->SetLogy();g_gq->Draw(\"Al\");\n",
    "c4->cd(3);gPad->SetLogy();g_gm->Draw(\"Al\");\n",
    "\n",
    "TCanvas *c5 = new TCanvas(\"c5\");\n",
    "c5->Divide(3,1);\n",
    "c5->cd(1);\n",
    "TH1 *h_gc = gPad->DrawFrame(0,-0.01,15,0.02);\n",
    "h_gc->GetXaxis()->CenterTitle();h_gc->GetXaxis()->SetTitle(\"Q^{2} [GeV^{2}]\");\n",
    "h_gc->SetTitle(\"G_{C} -- Abbott I\");\n",
    "g_gcl->Draw(\"C same\");\n",
    "c5->cd(2);\n",
    "TH1 *h_gq = gPad->DrawFrame(0,-0.005,15,0.02);\n",
    "h_gq->GetXaxis()->CenterTitle();h_gq->GetXaxis()->SetTitle(\"Q^{2} [GeV^{2}]\");\n",
    "h_gq->SetTitle(\"G_{Q} -- Abbott I\");\n",
    "g_gql->Draw(\"C same\");\n",
    "c5->cd(3);\n",
    "TH1 *h_gm = gPad->DrawFrame(0,-0.005,15,0.02);\n",
    "h_gm->GetXaxis()->CenterTitle();h_gm->GetXaxis()->SetTitle(\"Q^{2} [GeV^{2}]\");\n",
    "h_gm->SetTitle(\"G_{M} -- Abbott I\");\n",
    "g_gml->Draw(\"C same\");g_gm_modl->Draw(\"C Same\");\n",
    "TLegend *leg2 = new TLegend(0.45,0.675,0.875,0.875);\n",
    "leg2->SetBorderSize(0);leg2->SetTextSize(0.0375);\n",
    "leg2->AddEntry(g_gml,\"Abbott I\",\"l\");\n",
    "leg2->AddEntry(g_gm_modl,\"Abbott I -- Modified\",\"l\");\n",
    "leg2->Draw();\n",
    "\n",
    "TCanvas *c5a = new TCanvas(\"c5a\");\n",
    "c5a->Divide(3,1);\n",
    "\n",
    "c5a->cd(1);gPad->SetLogy();\n",
    "TH1 *h_gca = gPad->DrawFrame(0,1E-7,4,2);\n",
    "h_gca->GetXaxis()->CenterTitle();h_gca->GetXaxis()->SetTitle(\"Q^{2} [GeV^{2}]\");\n",
    "h_gca->SetTitle(\"|G_{C}|\");\n",
    "g_gc->Draw(\"l same\");g_theory_GC->Draw(\"C same\");g_data_GC->Draw(\"P same\");\n",
    "\n",
    "c5a->cd(2);gPad->SetLogy();\n",
    "TH1 *h_gqa = gPad->DrawFrame(0,1E-7,4,30);\n",
    "h_gqa->GetXaxis()->CenterTitle();h_gqa->GetXaxis()->SetTitle(\"Q^{2} [GeV^{2}]\");\n",
    "h_gqa->SetTitle(\"|G_{Q}|\");\n",
    "g_gq->Draw(\"l same\");g_theory_GQ->Draw(\"C same\");g_data_GQ->Draw(\"P same\");\n",
    "\n",
    "c5a->cd(3);gPad->SetLogy();\n",
    "TH1 *h_gma = gPad->DrawFrame(0,1E-7,4,2);\n",
    "h_gma->GetXaxis()->CenterTitle();h_gma->GetXaxis()->SetTitle(\"Q^{2} [GeV^{2}]\");\n",
    "h_gma->SetTitle(\"|G_{M}|\");\n",
    "g_gm->Draw(\"l same\");g_gm_mod->Draw(\"l same\");g_theory_GM->Draw(\"C same\");g_data_GM->Draw(\"P same\");\n",
    "TLegend *leg2a = new TLegend(0.425,0.65,0.875,0.895);\n",
    "leg2a->SetBorderSize(0);leg2a->SetTextSize(0.045);\n",
    "leg2a->AddEntry(g_gm,\"Abbott I\",\"l\");\n",
    "leg2a->AddEntry(g_gm_mod,\"Abbott I -- Modified\",\"l\");\n",
    "leg2a->AddEntry(g_theory_GM,\"IAMEC\",\"l\");\n",
    "leg2a->AddEntry(g_data_GM,\"Data\",\"lp\");\n",
    "leg2a->Draw();\n",
    "\n",
    "TCanvas *c6 = new TCanvas(\"c6\");\n",
    "c6->Divide(2,1);\n",
    "c6->cd(1);gPad->SetLogy();\n",
    "g_a1->Draw(\"Al\");g_a2->Draw(\"l Same\");\n",
    "g_theory_A->Draw(\"l same\");g_data_A->Draw(\"P Same\");\n",
    "TLegend *leg3 = new TLegend(0.45,0.675,0.875,0.875);\n",
    "leg3->SetBorderSize(0);leg3->SetTextSize(0.0375);\n",
    "leg3->AddEntry(g_a1,\"Abbott I -- Modified\",\"l\");\n",
    "leg3->AddEntry(g_a2,\"Long Fit\",\"l\");\n",
    "leg3->AddEntry(g_theory_A,\"IAMEC\",\"l\");\n",
    "leg3->AddEntry(g_data_A,\"Data\",\"lp\");\n",
    "//leg3->Draw();\n",
    "\n",
    "c6->cd(2);gPad->SetLogy();\n",
    "g_b1->Draw(\"Al\");g_b2->Draw(\"C Same\");\n",
    "g_theory_B->Draw(\"l same\");g_data_B->Draw(\"P Same\");\n",
    "leg3->Draw();\n",
    "\n",
    "TCanvas *c7 = new TCanvas(\"c7\");\n",
    "c7->Divide(3,1);\n",
    "c7->cd(1);\n",
    "TH1 *h_t20 = gPad->DrawFrame(0,-1.35,15,1.);\n",
    "h_t20->GetXaxis()->CenterTitle();h_t20->GetXaxis()->SetTitle(\"Q^{2} [GeV^{2}]\");\n",
    "h_t20->SetTitle(\"T_{20} (70^{o}) -- Abbott I (Modified)\");\n",
    "g_t20->Draw(\"l same\");\n",
    "\n",
    "c7->cd(2);\n",
    "TH1 *h_t21 = gPad->DrawFrame(0,-0.5,15,0.75);\n",
    "h_t21->GetXaxis()->CenterTitle();h_t21->GetXaxis()->SetTitle(\"Q^{2} [GeV^{2}]\");\n",
    "h_t21->SetTitle(\"T_{21} (70^{o}) -- Abbott I (Modified)\");\n",
    "g_t21->Draw(\"l same\");\n",
    "\n",
    "c7->cd(3);\n",
    "TH1 *h_t22 = gPad->DrawFrame(0,-0.1,15,0.15);\n",
    "h_t22->GetXaxis()->CenterTitle();h_t22->GetXaxis()->SetTitle(\"Q^{2} [GeV^{2}]\");\n",
    "h_t22->SetTitle(\"T_{22} (70^{o}) -- Abbott I (Modified)\");\n",
    "g_t22->Draw(\"l same\");\n",
    "\n",
    "TCanvas *c8 = new TCanvas(\"c8\");\n",
    "c8->Divide(3,1);\n",
    "c8->cd(1);\n",
    "TH1 *h_t20_comp = gPad->DrawFrame(0,-2,4,1.5);\n",
    "h_t20_comp->GetXaxis()->CenterTitle();h_t20_comp->GetXaxis()->SetTitle(\"Q^{2} [GeV^{2}]\");\n",
    "h_t20_comp->SetTitle(\"T_{20} (70^{o})\");\n",
    "g_t20->Draw(\"l same\");g_theory_T20->Draw(\"C same\");g_data_T20->Draw(\"p same\");\n",
    "\n",
    "c8->cd(2);\n",
    "TH1 *h_t21_comp = gPad->DrawFrame(0,-0.5,4,1.25);\n",
    "h_t21_comp->GetXaxis()->CenterTitle();h_t21_comp->GetXaxis()->SetTitle(\"Q^{2} [GeV^{2}]\");\n",
    "h_t21_comp->SetTitle(\"T_{21} (70^{o})\");\n",
    "g_t21->Draw(\"l same\");g_theory_T21->Draw(\"C same\");g_data_T21->Draw(\"p same\");\n",
    "\n",
    "c8->cd(3);\n",
    "TH1 *h_t22_comp = gPad->DrawFrame(0,-0.4,4,0.5);\n",
    "h_t22_comp->GetXaxis()->CenterTitle();h_t22_comp->GetXaxis()->SetTitle(\"Q^{2} [GeV^{2}]\");\n",
    "h_t22_comp->SetTitle(\"T_{22} (70^{o})\");\n",
    "g_t22->Draw(\"l same\");g_theory_T22->Draw(\"C same\");g_data_T22->Draw(\"p same\");\n",
    "\n",
    "TLegend *leg4 = new TLegend(0.425,0.675,0.875,0.875);\n",
    "leg4->SetBorderSize(0);leg4->SetTextSize(0.0425);\n",
    "leg4->AddEntry(g_t22,\"Abbott I -- Modified\",\"l\");\n",
    "leg4->AddEntry(g_theory_T22,\"IAMEC\",\"l\");\n",
    "leg4->AddEntry(g_data_T22,\"Data\",\"lp\");\n",
    "leg4->Draw();\n"
   ]
  },
  {
   "cell_type": "code",
   "execution_count": null,
   "metadata": {},
   "outputs": [],
   "source": [
    "//Output to ROOT file\n",
    "TFile *fout = new TFile(\"output/kin_rate_eic.root\",\"RECREATE\");\n",
    "\n",
    "for(Int_t k=0;k<ne;k++){\n",
    "f1[k]->Write();f2[k]->Write();f3[k]->Write();\n",
    "g_cs1[k]->Write(Form(\"g_cs1_%d\",k));\n",
    "g_cs2[k]->Write(Form(\"g_cs2_%d\",k));\n",
    "g_cs3[k]->Write(Form(\"g_cs3_%d\",k));\n",
    "gr3[k]->Write(Form(\"gr3_%d\",k));\n",
    "gr4[k]->Write(Form(\"gr4_%d\",k));\n",
    "gr5[k]->Write(Form(\"gr5_%d\",k));\n",
    "gr6[k]->Write(Form(\"gr6_%d\",k));\n",
    "}\n",
    "\n",
    "fout->Write();\n",
    "fout->Close();"
   ]
  },
  {
   "cell_type": "code",
   "execution_count": null,
   "metadata": {},
   "outputs": [],
   "source": [
    "//Print Plots to File\n",
    "c1->Print(\"output/kin_rate_eic.pdf[\");\n",
    "c1->Print(\"output/kin_rate_eic.pdf\");\n",
    "c1a->Print(\"output/kin_rate_eic.pdf\");\n",
    "c1b->Print(\"output/kin_rate_eic.pdf\");\n",
    "c2->Print(\"output/kin_rate_eic.pdf\");\n",
    "c3->Print(\"output/kin_rate_eic.pdf\");\n",
    "c3a->Print(\"output/kin_rate_eic.pdf\");\n",
    "c3b->Print(\"output/kin_rate_eic.pdf\");\n",
    "c4->Print(\"output/kin_rate_eic.pdf\");\n",
    "c5->Print(\"output/kin_rate_eic.pdf\");\n",
    "c5a->Print(\"output/kin_rate_eic.pdf\");\n",
    "c6->Print(\"output/kin_rate_eic.pdf\");\n",
    "c7->Print(\"output/kin_rate_eic.pdf\");\n",
    "c8->Print(\"output/kin_rate_eic.pdf\");\n",
    "c8->Print(\"output/kin_rate_eic.pdf]\");\n"
   ]
  },
  {
   "cell_type": "code",
   "execution_count": null,
   "metadata": {},
   "outputs": [],
   "source": []
  }
 ],
 "metadata": {
  "kernelspec": {
   "display_name": "Python 3",
   "language": "python",
   "name": "python3"
  },
  "language_info": {
   "codemirror_mode": {
    "name": "ipython",
    "version": 3
   },
   "file_extension": ".py",
   "mimetype": "text/x-python",
   "name": "python",
   "nbconvert_exporter": "python",
   "pygments_lexer": "ipython3",
   "version": "3.7.4"
  }
 },
 "nbformat": 4,
 "nbformat_minor": 2
}
