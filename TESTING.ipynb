{
 "cells": [
  {
   "cell_type": "code",
   "execution_count": null,
   "metadata": {},
   "outputs": [],
   "source": [
    "#Extended the range:\n",
    "kiwi_Q2 = np.linspace(Q2[0], Q2[-1], 500)\n",
    "kiwi_GC = g_c_kiwi(kiwi_Q2, *g_c_param)\n",
    "\n",
    "abbott_Q2 = np.linspace(Q2[0], Q2[-1], 500)\n",
    "abbott_param = (6.740E-01, 2.246E-02, 9.806E-03, -2.709E-04, 3.793E-06)\n",
    "abbott_GC = g_c_abbott(abbott_Q2, *abbott_param)\n",
    "\n",
    "#Creating a new matplotlib.pyplot figure\n",
    "plt.rcParams.update({'font.size': 22})\n",
    "plt.figure(figsize = (16,9))\n",
    "plt.title('$G_C$ Parameterization')\n",
    "plt.xlabel('$Q^2$ [GeV]')\n",
    "plt.grid()\n",
    "\n",
    "#Plotting the new fit function\n",
    "plt.plot( kiwi_Q2, kiwi_GC, color = 'blue', label = 'New Fit')\n",
    "\n",
    "#Plotting the Abbott fit function\n",
    "plt.plot( abbott_Q2, abbott_GC, color = 'red', label = 'Abbott Fit I')\n",
    "\n",
    "#Creating the legend\n",
    "plt.legend(loc = 'upper right')\n",
    "\n",
    "plt.savefig('g_c_parameterization_e.png')"
   ]
  },
  {
   "cell_type": "code",
   "execution_count": null,
   "metadata": {},
   "outputs": [],
   "source": [
    "#Extended the range:\n",
    "kiwi_Q2 = np.linspace(Q2[0], Q2[-1], 500)\n",
    "kiwi_GQ = g_q_kiwi(kiwi_Q2, *popt)\n",
    "\n",
    "abbott_Q2 = np.linspace(Q2[0], Q2[-1], 500)\n",
    "abbott_param = (6.740E-01, 2.246E-02, 9.806E-03, -2.709E-04, 3.793E-06)\n",
    "abbott_GQ = g_q_abbott(abbott_Q2, *abbott_param)\n",
    "\n",
    "#Creating a new matplotlib.pyplot figure\n",
    "plt.rcParams.update({'font.size': 22})\n",
    "plt.figure(figsize = (16,9))\n",
    "plt.title('$G_Q$ Parameterization')\n",
    "plt.xlabel('$Q^2$ [GeV]')\n",
    "plt.grid()\n",
    "\n",
    "#Plotting the new fit function\n",
    "plt.plot( kiwi_Q2, kiwi_GQ, color = 'blue', label = 'New Fit')\n",
    "\n",
    "#Plotting the Abbott fit function\n",
    "plt.plot( abbott_Q2, abbott_GQ, color = 'red', label = 'Abbott Fit I')\n",
    "\n",
    "#Creating the legend\n",
    "plt.legend(loc = 'upper right')\n",
    "\n",
    "plt.savefig('g_q_parameterization_e.png')"
   ]
  },
  {
   "cell_type": "code",
   "execution_count": null,
   "metadata": {},
   "outputs": [],
   "source": [
    "#Extended the range:\n",
    "kiwi_Q2 = np.linspace(Q2[0], Q2[-1], 1000)\n",
    "kiwi_GM = g_m_kiwi(kiwi_Q2, *popt)\n",
    "\n",
    "abbott_Q2 = np.linspace(Q2[0], Q2[-1], 1000)\n",
    "abbott_param = (6.740E-01, 2.246E-02, 9.806E-03, -2.709E-04, 3.793E-06)\n",
    "abbott_GM = g_m_abbott(abbott_Q2, *abbott_param)\n",
    "\n",
    "#Creating a new matplotlib.pyplot figure\n",
    "plt.rcParams.update({'font.size': 22})\n",
    "plt.figure(figsize = (16,9))\n",
    "plt.title('$G_M$ Parameterization')\n",
    "plt.xlabel('$Q^2$ [GeV]')\n",
    "plt.grid()\n",
    "\n",
    "#Plotting the new fit function\n",
    "plt.plot( kiwi_Q2, kiwi_GM, color = 'blue', label = 'New Fit')\n",
    "\n",
    "#Plotting the Abbott fit function\n",
    "plt.plot( abbott_Q2, abbott_GM, color = 'red', label = 'Abbott Fit I')\n",
    "\n",
    "#Creating the legend\n",
    "plt.legend(loc = 'upper right')\n",
    "\n",
    "plt.savefig('g_m_parameterization_e.png')"
   ]
  }
 ],
 "metadata": {
  "kernelspec": {
   "display_name": "Python 3",
   "language": "python",
   "name": "python3"
  },
  "language_info": {
   "codemirror_mode": {
    "name": "ipython",
    "version": 3
   },
   "file_extension": ".py",
   "mimetype": "text/x-python",
   "name": "python",
   "nbconvert_exporter": "python",
   "pygments_lexer": "ipython3",
   "version": "3.7.4"
  }
 },
 "nbformat": 4,
 "nbformat_minor": 2
}
